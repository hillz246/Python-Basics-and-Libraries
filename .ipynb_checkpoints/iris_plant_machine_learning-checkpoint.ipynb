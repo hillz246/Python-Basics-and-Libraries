{
 "cells": [
  {
   "cell_type": "markdown",
   "id": "9f0cff72-9788-4545-9e4a-a40a3c49b22e",
   "metadata": {},
   "source": [
    "https://raw.githubusercontent.com/hillz246/Iris_plant_dataset_url/refs/heads/main/iris_plant_dataset.csv"
   ]
  },
  {
   "cell_type": "markdown",
   "id": "cf5fb7bf-8402-45fd-95fe-e55bf7a2d1ee",
   "metadata": {},
   "source": [
    "**Module 3: Machine Learning Fundamentals**\n",
    "\n",
    "Task 3:  \n",
    "Implement a basic machine learning model (e.g., linear regression or  \n",
    "classification) using scikit-learn.  \n",
    "Assignment: \n",
    "1. Implement a basic logistic regression model to predict the species of the flowers \n",
    "in the Iris dataset based on sepal and petal measurements.  \n",
    "2. Evaluate the model using accuracy, precision, recall, and F1-score.  \n",
    "Deliverables:\n",
    "A Python script that:  \n",
    "\n",
    "○ Trains a logistic regression model on the dataset.  \n",
    "○ Evaluates the model's performance. "
   ]
  },
  {
   "cell_type": "code",
   "execution_count": null,
   "id": "9497b082-14e0-47fe-ae2a-74130a4a02f8",
   "metadata": {},
   "outputs": [],
   "source": []
  },
  {
   "cell_type": "code",
   "execution_count": null,
   "id": "542da07f-0c2a-4911-8dce-6e986ef373a0",
   "metadata": {},
   "outputs": [],
   "source": []
  },
  {
   "cell_type": "code",
   "execution_count": null,
   "id": "3d7dde42-7747-483b-ba86-cbe30937c37d",
   "metadata": {},
   "outputs": [],
   "source": []
  },
  {
   "cell_type": "code",
   "execution_count": null,
   "id": "87a936d2-cab2-4d4b-b300-dc14e9e29a33",
   "metadata": {},
   "outputs": [],
   "source": []
  },
  {
   "cell_type": "code",
   "execution_count": null,
   "id": "a7424efc-d5c8-4c02-9258-2e89d960be61",
   "metadata": {},
   "outputs": [],
   "source": []
  },
  {
   "cell_type": "code",
   "execution_count": null,
   "id": "f01056e6-d89d-4402-a808-9174a0ff4750",
   "metadata": {},
   "outputs": [],
   "source": []
  },
  {
   "cell_type": "code",
   "execution_count": null,
   "id": "e471fedd-2ec7-440e-b084-9cd0927c7e83",
   "metadata": {},
   "outputs": [],
   "source": []
  }
 ],
 "metadata": {
  "kernelspec": {
   "display_name": "Python 3 (ipykernel)",
   "language": "python",
   "name": "python3"
  },
  "language_info": {
   "codemirror_mode": {
    "name": "ipython",
    "version": 3
   },
   "file_extension": ".py",
   "mimetype": "text/x-python",
   "name": "python",
   "nbconvert_exporter": "python",
   "pygments_lexer": "ipython3",
   "version": "3.10.13"
  }
 },
 "nbformat": 4,
 "nbformat_minor": 5
}
